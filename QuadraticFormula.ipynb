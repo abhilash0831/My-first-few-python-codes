{
 "cells": [
  {
   "cell_type": "markdown",
   "metadata": {},
   "source": [
    "### Quadratic Formula"
   ]
  },
  {
   "cell_type": "code",
   "execution_count": 2,
   "metadata": {},
   "outputs": [],
   "source": [
    "#Import Math library\n",
    "import math"
   ]
  },
  {
   "cell_type": "code",
   "execution_count": 10,
   "metadata": {},
   "outputs": [
    {
     "name": "stdout",
     "output_type": "stream",
     "text": [
      "Find the real roots to a quadratic equation.\n",
      "Enter the coefficients a, b, c : 2,4,2\n",
      "\n",
      "There is a double root at:  -1.0\n"
     ]
    }
   ],
   "source": [
    "def main():\n",
    "    print('Find the real roots to a quadratic equation.')\n",
    "    a,b,c = eval(input('Enter the coefficients a, b, c : '))\n",
    "    discriminant = b*b - 4*a*c\n",
    "    if discriminant < 0:\n",
    "        print(\"The roots are imaginary\")\n",
    "    elif discriminant == 0:\n",
    "        root = (-b)/(2*a)\n",
    "        print('\\nThere is a double root at: ', root)\n",
    "    else:\n",
    "        sqroot = math.sqrt(discriminant)\n",
    "        root1 = (-b + sqroot)/(2*a)\n",
    "        root2 = (-b - sqroot)/(2*a)\n",
    "        print(\"The solutions are are: \", root1, root2)\n",
    "main()"
   ]
  }
 ],
 "metadata": {
  "kernelspec": {
   "display_name": "Python 3",
   "language": "python",
   "name": "python3"
  },
  "language_info": {
   "codemirror_mode": {
    "name": "ipython",
    "version": 3
   },
   "file_extension": ".py",
   "mimetype": "text/x-python",
   "name": "python",
   "nbconvert_exporter": "python",
   "pygments_lexer": "ipython3",
   "version": "3.8.5"
  }
 },
 "nbformat": 4,
 "nbformat_minor": 4
}
