{
 "cells": [
  {
   "cell_type": "code",
   "execution_count": 7,
   "metadata": {},
   "outputs": [
    {
     "name": "stdout",
     "output_type": "stream",
     "text": [
      "Create usernames\n",
      "Source file: Usernames.txt\n",
      "Destination file: Usernames1.txt\n"
     ]
    }
   ],
   "source": [
    "## Create Usernames\n",
    "def main():\n",
    "    print(\"Create usernames\")\n",
    "    input_file_name = input(\"Source file: \") #Usernames.txt\n",
    "    output_file_name = input(\"Destination file: \")\n",
    "    inputfile = open(input_file_name, \"r\")\n",
    "    outputfile = open(output_file_name, \"w\")\n",
    "    \n",
    "    for line in inputfile:\n",
    "        first, last = line.split()\n",
    "        username = (first[0]+last[:7]).lower()+'\\n'\n",
    "        outputfile.write(username)\n",
    "    inputfile.close()\n",
    "    outputfile.close()\n",
    "main()"
   ]
  }
 ],
 "metadata": {
  "kernelspec": {
   "display_name": "Python 3",
   "language": "python",
   "name": "python3"
  },
  "language_info": {
   "codemirror_mode": {
    "name": "ipython",
    "version": 3
   },
   "file_extension": ".py",
   "mimetype": "text/x-python",
   "name": "python",
   "nbconvert_exporter": "python",
   "pygments_lexer": "ipython3",
   "version": "3.8.5"
  }
 },
 "nbformat": 4,
 "nbformat_minor": 4
}
