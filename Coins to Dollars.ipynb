{
 "cells": [
  {
   "cell_type": "markdown",
   "metadata": {},
   "source": [
    "### Compute the value of coins in dollars"
   ]
  },
  {
   "cell_type": "code",
   "execution_count": 2,
   "metadata": {},
   "outputs": [
    {
     "name": "stdout",
     "output_type": "stream",
     "text": [
      "Please enter the number of coins of each type\n",
      "Quarters: 5\n",
      "Dimes: 5\n",
      "Nickels: 5\n",
      "Pennies: 5\n",
      "Total value =  2.05\n"
     ]
    }
   ],
   "source": [
    "def change():\n",
    "    print(\"Please enter the number of coins of each type\")\n",
    "    quarters = eval(input(\"Quarters: \"))\n",
    "    dimes = eval(input(\"Dimes: \"))\n",
    "    nickels = eval(input(\"Nickels: \"))\n",
    "    pennies = eval(input(\"Pennies: \"))\n",
    "    total = quarters*0.25 + dimes*0.1 + nickels*0.05 + pennies*0.01\n",
    "    print(\"Total value = \", total)\n",
    "change()"
   ]
  }
 ],
 "metadata": {
  "kernelspec": {
   "display_name": "Python 3",
   "language": "python",
   "name": "python3"
  },
  "language_info": {
   "codemirror_mode": {
    "name": "ipython",
    "version": 3
   },
   "file_extension": ".py",
   "mimetype": "text/x-python",
   "name": "python",
   "nbconvert_exporter": "python",
   "pygments_lexer": "ipython3",
   "version": "3.8.5"
  }
 },
 "nbformat": 4,
 "nbformat_minor": 4
}
