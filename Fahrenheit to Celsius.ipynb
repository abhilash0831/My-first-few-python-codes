{
 "cells": [
  {
   "cell_type": "markdown",
   "metadata": {},
   "source": [
    "### Program to Convert Celsius to Fahrenheit"
   ]
  },
  {
   "cell_type": "code",
   "execution_count": null,
   "metadata": {},
   "outputs": [],
   "source": [
    "celsius = float(input('What is the Celsius temperature?'))\n",
    "fahrenheit = (9/5)*celsius + 32\n",
    "print('The temperature is', fahrenheit, 'degress Fahrenheit')"
   ]
  },
  {
   "cell_type": "code",
   "execution_count": 2,
   "metadata": {},
   "outputs": [
    {
     "name": "stdout",
     "output_type": "stream",
     "text": [
      "What is the Celsius temperature?1\n",
      "The temperature is 33.8 degress Fahrenheit\n"
     ]
    },
    {
     "data": {
      "text/plain": [
       "33.8"
      ]
     },
     "execution_count": 2,
     "metadata": {},
     "output_type": "execute_result"
    }
   ],
   "source": [
    "def Convert_Fahrenheit_to_Celsius(fahrenheit):\n",
    "    celsius = float(input('What is the Celsius temperature?'))\n",
    "    fahrenheit = (9/5)*celsius + 32\n",
    "    print('The temperature is', fahrenheit, 'degress Fahrenheit')\n",
    "    return fahrenheit\n",
    "Convert_Fahrenheit_to_Celsius(40)"
   ]
  }
 ],
 "metadata": {
  "kernelspec": {
   "display_name": "Python 3",
   "language": "python",
   "name": "python3"
  },
  "language_info": {
   "codemirror_mode": {
    "name": "ipython",
    "version": 3
   },
   "file_extension": ".py",
   "mimetype": "text/x-python",
   "name": "python",
   "nbconvert_exporter": "python",
   "pygments_lexer": "ipython3",
   "version": "3.8.5"
  }
 },
 "nbformat": 4,
 "nbformat_minor": 4
}
