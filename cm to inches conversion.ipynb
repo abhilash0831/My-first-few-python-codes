{
 "cells": [
  {
   "cell_type": "code",
   "execution_count": 4,
   "metadata": {},
   "outputs": [
    {
     "name": "stdout",
     "output_type": "stream",
     "text": [
      "Enter the number of values you want to convert: 10\n",
      "Enter the starting value: 2.5\n",
      "Enter the increment value: 0.3\n",
      "Centimeters -  Inches\n",
      "2.5            0.984251968503937\n",
      "2.8            1.1023622047244093\n",
      "3.0999999999999996            1.2204724409448817\n",
      "3.3999999999999995            1.3385826771653542\n",
      "3.6999999999999993            1.4566929133858264\n",
      "3.999999999999999            1.5748031496062989\n",
      "4.299999999999999            1.6929133858267713\n",
      "4.599999999999999            1.8110236220472435\n",
      "4.899999999999999            1.929133858267716\n",
      "5.199999999999998            2.0472440944881884\n"
     ]
    }
   ],
   "source": [
    "##Convert cm to inches conversion table\n",
    "def main():\n",
    "    number = int(input('Enter the number of values you want to convert: '))\n",
    "    Starting_Number = eval(input('Enter the starting value: '))\n",
    "    Increment = eval(input('Enter the increment value: '))\n",
    "    centimeter = Starting_Number\n",
    "    print(\"Centimeters -  Inches\")\n",
    "    for i in range(number):\n",
    "        inches = centimeter/2.54\n",
    "        print(centimeter, \"          \", inches)\n",
    "        centimeter = centimeter + Increment\n",
    "main()"
   ]
  }
 ],
 "metadata": {
  "kernelspec": {
   "display_name": "Python 3",
   "language": "python",
   "name": "python3"
  },
  "language_info": {
   "codemirror_mode": {
    "name": "ipython",
    "version": 3
   },
   "file_extension": ".py",
   "mimetype": "text/x-python",
   "name": "python",
   "nbconvert_exporter": "python",
   "pygments_lexer": "ipython3",
   "version": "3.8.5"
  }
 },
 "nbformat": 4,
 "nbformat_minor": 4
}
